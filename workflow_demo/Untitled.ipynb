{
 "cells": [
  {
   "cell_type": "markdown",
   "id": "08b286fc",
   "metadata": {},
   "source": [
    "# 1  Automated data cleaning for chest Xrays with cleanX: notebook for medical professionals with limited coding abililties. "
   ]
  },
  {
   "cell_type": "markdown",
   "id": "cae5502b",
   "metadata": {},
   "source": [
    "CleanX is a code library by Candace Makeda Moore, MD, Oleg Sivokon, and Andrew Murphy. Please note this workflow does not cover the whole scope of cleanX, and is only meant to show some of the functionality that can be accomplished using cleanX. "
   ]
  },
  {
   "cell_type": "markdown",
   "id": "e3d5d511",
   "metadata": {},
   "source": [
    "The purpose of this notebook is to educate people with very limited understanding of machine learning and code about some of what cleanX does, and why it is worth incorporating it into use. "
   ]
  },
  {
   "cell_type": "code",
   "execution_count": null,
   "id": "bc91a399",
   "metadata": {},
   "outputs": [],
   "source": [
    "import sys\n",
    "sys.path = ['D:/projects/cleanX'] + sys.path\n",
    "# we will need to import some libraries\n",
    "import pandas as pd\n",
    "import os\n",
    "from cleanX import (\n",
    "    dataset_processing as csvp,\n",
    "    dicom_processing as dicomp,\n",
    "    image_work as iwork,\n",
    ")"
   ]
  },
  {
   "cell_type": "markdown",
   "id": "19447588",
   "metadata": {},
   "source": [
    "Reading and analysis of chest X-rays is a common task in hospitals. In fact in many hospitals so many chest X-rays are performed that some are never read, and some are only read by people with limited training in radiology. Some countries have a very limited number of radiologists so radiographers read the chest X-rays. Regardless of who reads these images, they can be difficult to interpret and the error rate is reported as high in the medical literature (over 10% or even over 15% depending upon the source). Machine learning based algorithms have the potential to improve this situation in a variety of ways, however machine learning algorithms are powered by mountains of labeled data. And this need for labeled data creates a potential problem. \n",
    "\n",
    "Labeled data must either be retrieved from existing read X-rays (errors included), or created by humans (already over-burdened with reading X-rays, actually that was the original problem in the first place, right?). Several groups have created big datasets that algorithms can be trained on, but no dataset is perfect for every task. Unfortunately many datasets contain images that may not be appropriate to make a machine learning algorithm from. As a case in point, let's take a look at some of the data in a large set of COVID-19 images. We will use the CoronaHack -Chest X-Ray-Dataset from Kaggle. The dataset was assembled by Praveen Govindaraj. This dataset has thousands of images...too many to look through by hand without wasting a lot of time"
   ]
  },
  {
   "cell_type": "code",
   "execution_count": null,
   "id": "6167c55a",
   "metadata": {},
   "outputs": [],
   "source": [
    "origin_folder ='D:/my_academia/ncs/Coronahack-Chest-XRay-Dataset/Coronahack-Chest-XRay-Dataset/train/'"
   ]
  },
  {
   "cell_type": "markdown",
   "id": "56cde95a",
   "metadata": {},
   "source": [
    "## A word on finding duplicates\n",
    "We may or may not want to use duplicated images to build an algorithm. Generally, it's a bad idea. At the extreme, if all of one pathology is simply duplicated images, we do not have enough data. Instead of trying to remember if we see duplicates in thousands of images, let's ask cleanX. cleanX compares the images pixel by pixel, and this takes time if you don't have a powerful computer, but it doesn't take human time. We can take a much needed break! "
   ]
  },
  {
   "cell_type": "code",
   "execution_count": null,
   "id": "1355b4ee",
   "metadata": {},
   "outputs": [],
   "source": [
    "found = iwork.find_duplicated_images_todf(origin_folder)\n",
    "len(found[found.status == 'duplicated'])  "
   ]
  },
  {
   "cell_type": "markdown",
   "id": "8fbe7af8",
   "metadata": {},
   "source": [
    "OK, so we may have 26 duplicates. Not so bad out of thousands of pictures. Let's pull up a list so we can check them by hand."
   ]
  },
  {
   "cell_type": "code",
   "execution_count": null,
   "id": "dca3ae86",
   "metadata": {},
   "outputs": [],
   "source": [
    "found[found.status == 'duplicated']"
   ]
  },
  {
   "cell_type": "code",
   "execution_count": null,
   "id": "2b8b6145",
   "metadata": {},
   "outputs": [],
   "source": [
    "wierd_images = found[found.status == 'duplicated']\n",
    "wierd_images_list = wierd_images.images.to_list()\n",
    "\n",
    "# we need the full file path\n",
    "final_names = []\n",
    "for image_string in wierd_images_list:\n",
    "    final_names.append(os.path.join(origin_folder, image_string))"
   ]
  },
  {
   "cell_type": "code",
   "execution_count": null,
   "id": "eeacf791",
   "metadata": {},
   "outputs": [],
   "source": [
    "iwork.show_images_in_df(final_names,19)"
   ]
  },
  {
   "cell_type": "code",
   "execution_count": null,
   "id": "0f566db3",
   "metadata": {},
   "outputs": [],
   "source": [
    "# make a function that compares one image to list, and finds closest. \n",
    "import cv2\n",
    "import numpy as np\n",
    "image1 = 'person1372_bacteria_3502.jpeg'\n",
    "image1name = os.path.join(origin_folder, image1)\n",
    "compare_list = final_names\n",
    "image1image = cv2.imread(image1name)\n",
    "results = []\n",
    "pictures = []\n",
    "width, height = image1image.shape[1], image1image.shape[0]\n",
    "dim = (width, height)\n",
    "for picture in compare_list:\n",
    "    \n",
    "    image_there = cv2.imread(picture)\n",
    "    resized = cv2.resize(image_there, dim, interpolation = cv2.INTER_AREA)\n",
    "    result = resized - image1image\n",
    "    result_sum = np.sum(result)\n",
    "    results.append(result_sum)\n",
    "    pictures.append(pictures)"
   ]
  },
  {
   "cell_type": "code",
   "execution_count": null,
   "id": "9a033c58",
   "metadata": {},
   "outputs": [],
   "source": [
    "d = {'results':results,'pictures':pictures}\n",
    "ho = pd.DataFrame(d)"
   ]
  },
  {
   "cell_type": "code",
   "execution_count": null,
   "id": "1f1c012d",
   "metadata": {},
   "outputs": [],
   "source": [
    "ho"
   ]
  },
  {
   "cell_type": "markdown",
   "id": "ec5ed07c",
   "metadata": {},
   "source": [
    "Interesting, some of our duplicated pictures appear to have been triplicated, and we get two of the same duplicate."
   ]
  },
  {
   "cell_type": "markdown",
   "id": "148059d2",
   "metadata": {},
   "source": [
    "## Let's look a different way"
   ]
  },
  {
   "cell_type": "code",
   "execution_count": null,
   "id": "decfbb2b",
   "metadata": {},
   "outputs": [],
   "source": [
    "# def create_compressed_imgs_array(directory):\n",
    "#     \"\"\"\n",
    "#     This is a helper function to be used inside another function.\n",
    "#     It makes a big arrays of compressed image arrays\n",
    "#     \"\"\"\n",
    "#     compression=50\n",
    "#     global image_files   \n",
    "#     image_files = []\n",
    "#     # create list of all files in directory     \n",
    "#     folder_files = [filename for filename in os.listdir(directory)]  \n",
    "#     # create images array  \n",
    "#     counter = 0\n",
    "#     for filename in folder_files: \n",
    "#         img = cv2.imread(directory + filename)\n",
    "#         if type(img) == np.ndarray:\n",
    "#             img = img[...,0:3]\n",
    "#             # resize the image based to compression value (40)\n",
    "#             img = cv2.resize(img, dsize=(compression, compression), interpolation=cv2.INTER_CUBIC)\n",
    "#             if counter == 0:\n",
    "#                 imgs_array = img\n",
    "#                 image_files.append(filename)\n",
    "#                 counter += 1\n",
    "#             else:\n",
    "#                 imgs_array = np.concatenate((imgs_array, img))\n",
    "#                 image_files.append(filename)\n",
    "#     return imgs_array"
   ]
  },
  {
   "cell_type": "code",
   "execution_count": null,
   "id": "3bd202c8",
   "metadata": {},
   "outputs": [],
   "source": [
    "#print(type(create_imgs_array('D:/my_academia/new_dicom_output/')))"
   ]
  },
  {
   "cell_type": "code",
   "execution_count": null,
   "id": "9dc9cd8f",
   "metadata": {},
   "outputs": [],
   "source": [
    "# def add_to_list(filename, list):\n",
    "#     list.append(filename)"
   ]
  },
  {
   "cell_type": "code",
   "execution_count": 68,
   "id": "baf8ca86",
   "metadata": {},
   "outputs": [],
   "source": [
    "def show_close_images(folder, compression_level,ref_mse):\n",
    "    \"\"\"\n",
    "    This function shows potentially duplicated images by\n",
    "    comparing compressed versions of the images.\n",
    "    :param folder: folder with jpgs\n",
    "    :type folder: string\n",
    "    :param ref_mse: mse is a mean squared error\n",
    "    :type ref_mse: float\n",
    "\n",
    "    :return: near_dupers\n",
    "    :rtype: pandas.core.frame.DataFrame\n",
    "    \"\"\"\n",
    "    compression = compression_level\n",
    "    # lists of the found duplicate/similar images \n",
    "    duplicates_A = []\n",
    "    duplicates_B = []\n",
    "    image_files = []\n",
    "    # list of all files in directory  \n",
    "    suspects1 = glob.glob(os.path.join(folder, '*.[Jj][Pp][Gg]'))\n",
    "    suspects2 = glob.glob(os.path.join(folder, '*.[Jj][Pp][Ee][Gg]'))\n",
    "    folder_files = suspects1 + suspects2\n",
    "\n",
    "    # create images array  \n",
    "    counter = 0\n",
    "    for filename in folder_files: \n",
    "        img = cv2.imread(filename)\n",
    "        if type(img) == np.ndarray:\n",
    "            img = img[...,0:3]\n",
    "            # resize the image based to compression value (40)\n",
    "            img = cv2.resize(img, dsize=(compression, compression), interpolation=cv2.INTER_CUBIC)\n",
    "            if counter == 0:\n",
    "                imgs_array = img\n",
    "                image_files.append(filename)\n",
    "                counter += 1\n",
    "            else:\n",
    "                imgs_array = np.concatenate((imgs_array, img))\n",
    "                image_files.append(filename)\n",
    "    # cook it            \n",
    "    main_img = 0\n",
    "    compared_img = 1\n",
    "    nrows, ncols = compression, compression\n",
    "    srow_A = 0\n",
    "    erow_A = nrows\n",
    "    srow_B = erow_A\n",
    "    erow_B = srow_B + nrows       \n",
    "    while erow_B <= imgs_array.shape[0]:\n",
    "        while compared_img < (len(image_files)):\n",
    "            # select two images from imgs_matrix\n",
    "            imgA = imgs_array[srow_A : erow_A, # rows\n",
    "                               0      : ncols]  # columns\n",
    "            imgB = imgs_array[srow_B : erow_B, # rows\n",
    "                               0      : ncols]  # columns\n",
    "            # compare the images\n",
    "            err = np.sum((imgA.astype(\"float\") - imgB.astype(\"float\")) ** 2)\n",
    "            err /= float(imgA.shape[0] * imgA.shape[1])\n",
    "            if err < ref_mse:\n",
    "                fig = plt.figure()\n",
    "                plt.suptitle(\"MSE: %.3f\" % (err))\n",
    "                # plot first image\n",
    "                ax = fig.add_subplot(1, 2, 1)\n",
    "                plt.imshow(imgA, cmap = plt.cm.gray)\n",
    "                plt.axis(\"off\")\n",
    "                # plot second image\n",
    "                ax = fig.add_subplot(1, 2, 2)\n",
    "                plt.imshow(imgB, cmap = plt.cm.gray)\n",
    "                plt.axis(\"off\")\n",
    "                # show the images\n",
    "                plt.show()\n",
    "                print(\"Similar files: \" + image_files[main_img] + \" and \" + image_files[compared_img])\n",
    "                duplicates_A.append(image_files[main_img])\n",
    "                duplicates_B.append(image_files[compared_img])\n",
    "                dupers = {'twinA?':duplicates_A,'twinB?' :duplicates_B}\n",
    "                near_dupers = pd.DataFrame(dupers)\n",
    "                near_dupers['mse'] = err\n",
    "            srow_B += nrows\n",
    "            erow_B += nrows\n",
    "            compared_img += 1\n",
    "        \n",
    "        srow_A += nrows\n",
    "        erow_A += nrows\n",
    "        srow_B = erow_A\n",
    "        erow_B = srow_B + nrows\n",
    "        main_img += 1\n",
    "        compared_img = main_img + 1\n",
    "\n",
    "    print(\"\\n***\\n Output: \",\n",
    "           str(len(duplicates_A)),\n",
    "           \" potential duplicate image pairs in \",\n",
    "           str(len(image_files)), \n",
    "           \" total images.\\n\",\n",
    "           \"At compression level\",\n",
    "            compression,\n",
    "            \"and mse\",\n",
    "             ref_mse,\n",
    "    )\n",
    "    return near_dupers\n",
    "    "
   ]
  },
  {
   "cell_type": "code",
   "execution_count": 70,
   "id": "bbaea943",
   "metadata": {},
   "outputs": [
    {
     "data": {
      "image/png": "[encoded data removed]",
      "text/plain": [
       "<Figure size 432x288 with 2 Axes>"
      ]
     },
     "metadata": {
      "needs_background": "light"
     },
     "output_type": "display_data"
    },
    {
     "name": "stdout",
     "output_type": "stream",
     "text": [
      "Similar files: D:/my_academia/new_dicom_output\\IM-0001-0074.dcmfe2f32c2-0564-45a2-9aa7-6c71c6a6913d.dcm.jpg and D:/my_academia/new_dicom_output\\IM-0001-0075.dcmfaf20448-a0ee-46ff-9d3e-f0280bbefcce.dcm.jpg\n"
     ]
    },
    {
     "data": {
      "image/png": "[encoded data removed]",
      "text/plain": [
       "<Figure size 432x288 with 2 Axes>"
      ]
     },
     "metadata": {
      "needs_background": "light"
     },
     "output_type": "display_data"
    },
    {
     "name": "stdout",
     "output_type": "stream",
     "text": [
      "Similar files: D:/my_academia/new_dicom_output\\IM-0001-0075.dcm3a5738c1-6dfb-4fc0-b038-3f46ad7dcc5b.dcm.jpg and D:/my_academia/new_dicom_output\\IM-0001-0076.dcm9d5a9a20-2bf3-4de1-84a1-ea625537f2bc.dcm.jpg\n",
      "\n",
      "***\n",
      " Output:  2  potential duplicate image pairs in  12  total images.\n",
      " At compression level 60 and mse 190\n"
     ]
    },
    {
     "data": {
      "text/html": [
       "<div>\n",
       "<style scoped>\n",
       "    .dataframe tbody tr th:only-of-type {\n",
       "        vertical-align: middle;\n",
       "    }\n",
       "\n",
       "    .dataframe tbody tr th {\n",
       "        vertical-align: top;\n",
       "    }\n",
       "\n",
       "    .dataframe thead th {\n",
       "        text-align: right;\n",
       "    }\n",
       "</style>\n",
       "<table border=\"1\" class=\"dataframe\">\n",
       "  <thead>\n",
       "    <tr style=\"text-align: right;\">\n",
       "      <th></th>\n",
       "      <th>twinA?</th>\n",
       "      <th>twinB?</th>\n",
       "      <th>mse</th>\n",
       "    </tr>\n",
       "  </thead>\n",
       "  <tbody>\n",
       "    <tr>\n",
       "      <th>0</th>\n",
       "      <td>D:/my_academia/new_dicom_output\\IM-0001-0074.d...</td>\n",
       "      <td>D:/my_academia/new_dicom_output\\IM-0001-0075.d...</td>\n",
       "      <td>181.528333</td>\n",
       "    </tr>\n",
       "    <tr>\n",
       "      <th>1</th>\n",
       "      <td>D:/my_academia/new_dicom_output\\IM-0001-0075.d...</td>\n",
       "      <td>D:/my_academia/new_dicom_output\\IM-0001-0076.d...</td>\n",
       "      <td>181.528333</td>\n",
       "    </tr>\n",
       "  </tbody>\n",
       "</table>\n",
       "</div>"
      ],
      "text/plain": [
       "                                              twinA?  \\\n",
       "0  D:/my_academia/new_dicom_output\\IM-0001-0074.d...   \n",
       "1  D:/my_academia/new_dicom_output\\IM-0001-0075.d...   \n",
       "\n",
       "                                              twinB?         mse  \n",
       "0  D:/my_academia/new_dicom_output\\IM-0001-0075.d...  181.528333  \n",
       "1  D:/my_academia/new_dicom_output\\IM-0001-0076.d...  181.528333  "
      ]
     },
     "execution_count": 70,
     "metadata": {},
     "output_type": "execute_result"
    }
   ],
   "source": [
    "\n",
    "show_close_images('D:/my_academia/new_dicom_output/',60,190)"
   ]
  },
  {
   "cell_type": "code",
   "execution_count": 51,
   "id": "599e9093",
   "metadata": {},
   "outputs": [
    {
     "data": {
      "image/png": "[encoded data removed]",
      "text/plain": [
       "<Figure size 432x288 with 2 Axes>"
      ]
     },
     "metadata": {
      "needs_background": "light"
     },
     "output_type": "display_data"
    },
    {
     "name": "stdout",
     "output_type": "stream",
     "text": [
      "Similar files: D:/my_academia/new_dicom_output\\IM-0001-0074.dcmfe2f32c2-0564-45a2-9aa7-6c71c6a6913d.dcm.jpg and D:/my_academia/new_dicom_output\\IM-0001-0075.dcmfaf20448-a0ee-46ff-9d3e-f0280bbefcce.dcm.jpg\n",
      "\n",
      "***\n",
      " Output: 1 potential duplicate image pairs in 12 total images.\n",
      "\n",
      "<class 'pandas.core.frame.DataFrame'>\n"
     ]
    }
   ],
   "source": [
    "shown = show_close_images(diro,140)\n",
    "print(type(shown))"
   ]
  },
  {
   "cell_type": "code",
   "execution_count": null,
   "id": "199abbb2",
   "metadata": {},
   "outputs": [],
   "source": [
    "shown"
   ]
  },
  {
   "cell_type": "code",
   "execution_count": null,
   "id": "25e483b1",
   "metadata": {},
   "outputs": [],
   "source": [
    "target_upside_down1+'/'"
   ]
  },
  {
   "cell_type": "code",
   "execution_count": null,
   "id": "4b9bc8d4",
   "metadata": {},
   "outputs": [],
   "source": []
  },
  {
   "cell_type": "code",
   "execution_count": null,
   "id": "33fd14dd",
   "metadata": {},
   "outputs": [],
   "source": []
  }
 ],
 "metadata": {
  "kernelspec": {
   "display_name": "Python 3 (ipykernel)",
   "language": "python",
   "name": "python3"
  },
  "language_info": {
   "codemirror_mode": {
    "name": "ipython",
    "version": 3
   },
   "file_extension": ".py",
   "mimetype": "text/x-python",
   "name": "python",
   "nbconvert_exporter": "python",
   "pygments_lexer": "ipython3",
   "version": "3.8.0"
  },
  "toc": {
   "base_numbering": 1,
   "nav_menu": {},
   "number_sections": true,
   "sideBar": true,
   "skip_h1_title": false,
   "title_cell": "Table of Contents",
   "title_sidebar": "Contents",
   "toc_cell": false,
   "toc_position": {},
   "toc_section_display": true,
   "toc_window_display": false
  }
 },
 "nbformat": 4,
 "nbformat_minor": 5
}
