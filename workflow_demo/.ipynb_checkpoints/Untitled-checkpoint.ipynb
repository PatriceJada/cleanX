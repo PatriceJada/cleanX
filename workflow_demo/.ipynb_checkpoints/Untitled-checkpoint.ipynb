{
 "cells": [
  {
   "cell_type": "markdown",
   "id": "08b286fc",
   "metadata": {},
   "source": [
    "# 1  Automated data cleaning for chest Xrays with cleanX: notebook for medical professionals with limited coding abililties. "
   ]
  },
  {
   "cell_type": "markdown",
   "id": "cae5502b",
   "metadata": {},
   "source": [
    "CleanX is a code library by Candace Makeda Moore, MD, Oleg Sivokon, and Andrew Murphy. Please note this workflow does not cover the whole scope of cleanX, and is only meant to show some of the functionality that can be accomplished using cleanX. "
   ]
  },
  {
   "cell_type": "markdown",
   "id": "e3d5d511",
   "metadata": {},
   "source": [
    "The purpose of this notebook is to educate people with very limited understanding of machine learning and code about some of what cleanX does, and why it is worth incorporating it into use. "
   ]
  },
  {
   "cell_type": "code",
   "execution_count": null,
   "id": "bc91a399",
   "metadata": {},
   "outputs": [],
   "source": [
    "import sys\n",
    "sys.path = ['D:/projects/cleanX'] + sys.path\n",
    "# we will need to import some libraries\n",
    "import pandas as pd\n",
    "import os\n",
    "from cleanX import (\n",
    "    dataset_processing as csvp,\n",
    "    dicom_processing as dicomp,\n",
    "    image_work as iwork,\n",
    ")"
   ]
  },
  {
   "cell_type": "markdown",
   "id": "19447588",
   "metadata": {},
   "source": [
    "Reading and analysis of chest X-rays is a common task in hospitals. In fact in many hospitals so many chest X-rays are performed that some are never read, and some are only read by people with limited training in radiology. Some countries have a very limited number of radiologists so radiographers read the chest X-rays. Regardless of who reads these images, they can be difficult to interpret and the error rate is reported as high in the medical literature (over 10% or even over 15% depending upon the source). Machine learning based algorithms have the potential to improve this situation in a variety of ways, however machine learning algorithms are powered by mountains of labeled data. And this need for labeled data creates a potential problem. \n",
    "\n",
    "Labeled data must either be retrieved from existing read X-rays (errors included), or created by humans (already over-burdened with reading X-rays, actually that was the original problem in the first place, right?). Several groups have created big datasets that algorithms can be trained on, but no dataset is perfect for every task. Unfortunately many datasets contain images that may not be appropriate to make a machine learning algorithm from. As a case in point, let's take a look at some of the data in a large set of COVID-19 images. We will use the CoronaHack -Chest X-Ray-Dataset from Kaggle. The dataset was assembled by Praveen Govindaraj. This dataset has thousands of images...too many to look through by hand without wasting a lot of time"
   ]
  },
  {
   "cell_type": "code",
   "execution_count": null,
   "id": "6167c55a",
   "metadata": {},
   "outputs": [],
   "source": [
    "origin_folder ='D:/my_academia/ncs/Coronahack-Chest-XRay-Dataset/Coronahack-Chest-XRay-Dataset/train/'"
   ]
  },
  {
   "cell_type": "markdown",
   "id": "56cde95a",
   "metadata": {},
   "source": [
    "## Finding duplicates\n",
    "We may or may not want to use duplicated images to build an algorithm. Generally, it's a bad idea. At the extreme, if all of one pathology is simply duplicated images, we do not have enough data. Instead of trying to remember if we see duplicates in thousands of images, let's ask cleanX. cleanX compares the images pixel by pixel, and this takes time if you don't have a powerful computer, but it doesn't take human time. We can take a much needed break! "
   ]
  },
  {
   "cell_type": "code",
   "execution_count": null,
   "id": "1355b4ee",
   "metadata": {},
   "outputs": [],
   "source": [
    "found = iwork.find_duplicated_images_todf(origin_folder)\n",
    "len(found[found.status == 'duplicated'])  "
   ]
  },
  {
   "cell_type": "markdown",
   "id": "8fbe7af8",
   "metadata": {},
   "source": [
    "OK, so we may have 26 duplicates. Not so bad out of thousands of pictures. Let's pull up a list so we can check them by hand."
   ]
  },
  {
   "cell_type": "code",
   "execution_count": null,
   "id": "dca3ae86",
   "metadata": {},
   "outputs": [],
   "source": [
    "found[found.status == 'duplicated']"
   ]
  },
  {
   "cell_type": "code",
   "execution_count": null,
   "id": "2b8b6145",
   "metadata": {},
   "outputs": [],
   "source": [
    "wierd_images = found[found.status == 'duplicated']\n",
    "wierd_images_list = wierd_images.images.to_list()\n",
    "\n",
    "# we need the full file path\n",
    "final_names = []\n",
    "for image_string in wierd_images_list:\n",
    "    final_names.append(os.path.join(origin_folder, image_string))"
   ]
  },
  {
   "cell_type": "code",
   "execution_count": null,
   "id": "eeacf791",
   "metadata": {},
   "outputs": [],
   "source": [
    "iwork.show_images_in_df(final_names,19)"
   ]
  },
  {
   "cell_type": "code",
   "execution_count": null,
   "id": "0f566db3",
   "metadata": {},
   "outputs": [],
   "source": [
    "# make a function that compares one image to list, and finds closest. \n",
    "import cv2\n",
    "import numpy as np\n",
    "image1 = 'person1372_bacteria_3502.jpeg'\n",
    "image1name = os.path.join(origin_folder, image1)\n",
    "compare_list = final_names\n",
    "image1image = cv2.imread(image1name)\n",
    "results = []\n",
    "pictures = []\n",
    "width, height = image1image.shape[1], image1image.shape[0]\n",
    "dim = (width, height)\n",
    "for picture in compare_list:\n",
    "    \n",
    "    image_there = cv2.imread(picture)\n",
    "    resized = cv2.resize(image_there, dim, interpolation = cv2.INTER_AREA)\n",
    "    result = resized - image1image\n",
    "    result_sum = np.sum(result)\n",
    "    results.append(result_sum)\n",
    "    pictures.append(pictures)"
   ]
  },
  {
   "cell_type": "code",
   "execution_count": null,
   "id": "9a033c58",
   "metadata": {},
   "outputs": [],
   "source": [
    "d = {'results':results,'pictures':pictures}\n",
    "ho = pd.DataFrame(d)"
   ]
  },
  {
   "cell_type": "code",
   "execution_count": null,
   "id": "1f1c012d",
   "metadata": {},
   "outputs": [],
   "source": [
    "ho"
   ]
  },
  {
   "cell_type": "markdown",
   "id": "ec5ed07c",
   "metadata": {},
   "source": [
    "Interesting, some of our duplicated pictures appear to have been triplicated, and we get two of the same duplicate."
   ]
  },
  {
   "cell_type": "markdown",
   "id": "0b7815ab",
   "metadata": {},
   "source": [
    "## Finding outlier images"
   ]
  },
  {
   "cell_type": "markdown",
   "id": "061337bc",
   "metadata": {},
   "source": [
    "Now let's move on to seeing if we really have all similarly shot chest Xrays, or some nonsense flew in. We can use one of several methods with cleanX:"
   ]
  },
  {
   "cell_type": "code",
   "execution_count": null,
   "id": "0a376c8a",
   "metadata": {},
   "outputs": [],
   "source": [
    "# in a chest Xray we expect more white on top- the abdomen is bigger than the neck, let's see where that is not true\n",
    "upper_lower_returned = iwork.find_sample_upper_greater_than_lower(origin_folder, 10)\n",
    "# let's look at a sample of upper part of images and see if there are outliers\n",
    "upper_scan_returned = iwork.find_by_sample_upper(origin_folder, 10, 200)\n",
    "#let's compare each image to an average of all images, and take the most different\n",
    "tiny_image_different = iwork.find_tiny_image_differences(origin_folder, percentile=1)"
   ]
  },
  {
   "cell_type": "code",
   "execution_count": 1,
   "id": "8b063efd",
   "metadata": {},
   "outputs": [],
   "source": [
    "# libraries\n",
    "import cv2\n",
    "import pandas as pd\n",
    "import numpy as np\n",
    "import matplotlib.pyplot as plt\n",
    "import glob\n",
    "import os \n",
    "\n",
    "#import shutil\n",
    "from PIL import Image, ImageOps\n",
    "import math\n",
    "import filecmp\n",
    "import tesserocr\n",
    "from tesserocr import PyTessBaseAPI\n",
    "from filecmp import cmp\n",
    "from pathlib import Path\n",
    "import re\n",
    "import makedalytics as ma"
   ]
  },
  {
   "cell_type": "code",
   "execution_count": 8,
   "id": "c3b58e0d",
   "metadata": {},
   "outputs": [
    {
     "data": {
      "text/plain": [
       "2521728"
      ]
     },
     "execution_count": 8,
     "metadata": {},
     "output_type": "execute_result"
    }
   ],
   "source": [
    "imageAr = cv2.imread(imageA)\n",
    "imageAr.size"
   ]
  },
  {
   "cell_type": "code",
   "execution_count": 11,
   "id": "a4826d11",
   "metadata": {},
   "outputs": [],
   "source": [
    "def image_quality_by_size(specific_image):\n",
    "    q = os.stat(specific_image).st_size\n",
    "    return q"
   ]
  },
  {
   "cell_type": "code",
   "execution_count": 12,
   "id": "a4e7cabb",
   "metadata": {},
   "outputs": [
    {
     "data": {
      "text/plain": [
       "79645"
      ]
     },
     "execution_count": 12,
     "metadata": {},
     "output_type": "execute_result"
    }
   ],
   "source": [
    "image_quality_by_size(imageA)"
   ]
  },
  {
   "cell_type": "code",
   "execution_count": 13,
   "id": "b248c438",
   "metadata": {},
   "outputs": [
    {
     "name": "stdout",
     "output_type": "stream",
     "text": [
      "<class 'int'>\n"
     ]
    }
   ],
   "source": [
    "imageA = target_upside_down + '/covercleanXdistort.jpg'\n",
    "print(type(os.stat(imageA).st_size))\n"
   ]
  },
  {
   "cell_type": "code",
   "execution_count": null,
   "id": "8c564c15",
   "metadata": {},
   "outputs": [],
   "source": [
    "def check_img_quality(directory, imageA, imageB, list):\n",
    "    size_imgA = os.stat(directory + imageA).st_size\n",
    "    size_imgB = os.stat(directory + imageB).st_size\n",
    "    if size_imgA > size_imgB:\n",
    "        add_to_list(imageB, list)\n",
    "    else:\n",
    "        add_to_list(imageA, list)"
   ]
  },
  {
   "cell_type": "code",
   "execution_count": null,
   "id": "68acd49a",
   "metadata": {},
   "outputs": [],
   "source": []
  },
  {
   "cell_type": "code",
   "execution_count": 2,
   "id": "7dbf0025",
   "metadata": {},
   "outputs": [],
   "source": [
    "# get images and group by size\n",
    "target_upside_down= 'D:/my_academia/new_dicom_output'\n",
    "to_be_sorted = glob.glob(os.path.join(target_upside_down, '*.jpg'))\n",
    "pic_list = []\n",
    "heights = []\n",
    "widths = []\n",
    "dimension_groups = []\n",
    "# group = 0\n",
    "for picy in to_be_sorted:\n",
    "    \n",
    "    example = cv2.imread(picy, cv2.IMREAD_GRAYSCALE)\n",
    "    height = example.shape[0]\n",
    "    width = example.shape[1]\n",
    "    height_width= 'h'+str(height) + '_w' + str(width)\n",
    "    heights.append(height)    \n",
    "    widths.append(width)\n",
    "    pic_list.append(picy)\n",
    "    dimension_groups.append(height_width) \n",
    "    #if height, width == height, width\n",
    "    #group += 1\n",
    "    d = {'pics' : pic_list, 'height': heights, 'width': widths, 'height_width':dimension_groups}\n",
    "    data = pd.DataFrame(d)"
   ]
  },
  {
   "cell_type": "code",
   "execution_count": null,
   "id": "16d9a0db",
   "metadata": {},
   "outputs": [],
   "source": [
    "data"
   ]
  },
  {
   "cell_type": "code",
   "execution_count": null,
   "id": "e35098a0",
   "metadata": {},
   "outputs": [],
   "source": [
    "# sorted_f = pd.DataFrame(data.groupby(data.height_width))\n",
    "# sorted_f"
   ]
  },
  {
   "cell_type": "code",
   "execution_count": null,
   "id": "fe0d73d4",
   "metadata": {},
   "outputs": [],
   "source": [
    "data = data.sort_values('height_width')"
   ]
  },
  {
   "cell_type": "code",
   "execution_count": null,
   "id": "83eec33b",
   "metadata": {},
   "outputs": [],
   "source": [
    "#dict_of_dfs = {f'data{i}':data[['pics','height','width', i]] for i in data.columns[3:]}"
   ]
  },
  {
   "cell_type": "code",
   "execution_count": null,
   "id": "f2eb6f33",
   "metadata": {},
   "outputs": [],
   "source": [
    "#data.columns[3:]"
   ]
  },
  {
   "cell_type": "code",
   "execution_count": null,
   "id": "e4beda50",
   "metadata": {},
   "outputs": [],
   "source": [
    "#dict_of_dfs"
   ]
  },
  {
   "cell_type": "code",
   "execution_count": null,
   "id": "bfdfb007",
   "metadata": {},
   "outputs": [],
   "source": [
    "compuniquesizes = data.height_width.unique()"
   ]
  },
  {
   "cell_type": "code",
   "execution_count": null,
   "id": "589b879c",
   "metadata": {},
   "outputs": [],
   "source": [
    "sizesdict = {elem : pd.DataFrame() for elem in compuniquesizes}"
   ]
  },
  {
   "cell_type": "code",
   "execution_count": null,
   "id": "ddecd749",
   "metadata": {},
   "outputs": [],
   "source": [
    "for key in sizesdict.keys():\n",
    "    sizesdict[key] = data[:][data.height_width == key]"
   ]
  },
  {
   "cell_type": "code",
   "execution_count": null,
   "id": "560ff0a8",
   "metadata": {},
   "outputs": [],
   "source": [
    "sizesdict['h704_w1194']"
   ]
  },
  {
   "cell_type": "code",
   "execution_count": null,
   "id": "55012f89",
   "metadata": {},
   "outputs": [],
   "source": [
    "compuniquesizes"
   ]
  },
  {
   "cell_type": "code",
   "execution_count": null,
   "id": "bf47383e",
   "metadata": {},
   "outputs": [],
   "source": [
    "compuniquesizes, sizesdict"
   ]
  },
  {
   "cell_type": "code",
   "execution_count": null,
   "id": "74a57c21",
   "metadata": {},
   "outputs": [],
   "source": [
    "for sized in compuniquesizes:\n",
    "    print(sized)\n",
    "    print(len(sizesdict[sized]))\n",
    "    print(sizesdict[sized])"
   ]
  },
  {
   "cell_type": "code",
   "execution_count": null,
   "id": "12f9ffe5",
   "metadata": {},
   "outputs": [],
   "source": [
    "len_list = []\n",
    "size_name_list = []\n",
    "for sized in compuniquesizes:\n",
    "    lener= len(sizesdict[sized])\n",
    "    len_list.append(lener)\n",
    "    size_name_list.append(sized)\n",
    "sized_data = {'size':size_name_list, 'count':len_list}\n",
    "df = pd.DataFrame(sized_data)\n",
    "    #print(len(sizesdict[sized]))"
   ]
  },
  {
   "cell_type": "code",
   "execution_count": null,
   "id": "cebb462a",
   "metadata": {},
   "outputs": [],
   "source": [
    "df"
   ]
  },
  {
   "cell_type": "code",
   "execution_count": null,
   "id": "6e287943",
   "metadata": {},
   "outputs": [],
   "source": [
    "def give_me_size_count_df(folder):\n",
    "    \"\"\"\n",
    "    This function returns a dataframe of unique sized, and how many pictures \n",
    "    have such a size.\n",
    "    :param folder: folder with jpgs\n",
    "    :type folder: string\n",
    "\n",
    "    :return: df\n",
    "    :rtype: pandas.core.frame.DataFrame\n",
    "    \"\"\"\n",
    "    to_be_sorted = glob.glob(os.path.join(folder, '*.jpg'))\n",
    "    pic_list = []\n",
    "    heights = []\n",
    "    widths = []\n",
    "    dimension_groups = []\n",
    "    for picy in to_be_sorted:\n",
    "        example = cv2.imread(picy, cv2.IMREAD_GRAYSCALE)\n",
    "        height = example.shape[0]\n",
    "        width = example.shape[1]\n",
    "        height_width= 'h'+str(height) + '_w' + str(width)\n",
    "        heights.append(height)    \n",
    "        widths.append(width)\n",
    "        pic_list.append(picy)\n",
    "        dimension_groups.append(height_width) \n",
    "        d = {'pics' : pic_list, 'height': heights, 'width': widths, 'height_width':dimension_groups}\n",
    "        data = pd.DataFrame(d)\n",
    "        data = data.sort_values('height_width')\n",
    "        compuniquesizes = data.height_width.unique()\n",
    "        len_list = []\n",
    "    size_name_list = []\n",
    "    sizesdict = {elem : pd.DataFrame() for elem in compuniquesizes}\n",
    "    for key in sizesdict.keys():\n",
    "        sizesdict[key] = data[:][data.height_width == key]\n",
    "    for sized in compuniquesizes:\n",
    "        lener= len(sizesdict[sized])\n",
    "        len_list.append(lener)\n",
    "        size_name_list.append(sized)\n",
    "    sized_data = {'size':size_name_list, 'count':len_list}\n",
    "    df = pd.DataFrame(sized_data)\n",
    "    return df\n",
    "    "
   ]
  },
  {
   "cell_type": "code",
   "execution_count": null,
   "id": "f34cad54",
   "metadata": {},
   "outputs": [],
   "source": [
    "target_upside_down= 'D:/my_academia/new_dicom_output'\n",
    "print(give_me_size_count_list(target_upside_down))"
   ]
  },
  {
   "cell_type": "code",
   "execution_count": null,
   "id": "d57bd5fd",
   "metadata": {},
   "outputs": [],
   "source": [
    "def give_me_size_counted_dfs(folder):\n",
    "    \"\"\"\n",
    "    This function returns dataframes of unique sized images in a list\n",
    "    :param folder: folder with jpgs\n",
    "    :type folder: string\n",
    "\n",
    "    :return: big_sizer\n",
    "    :rtype: list\n",
    "    \"\"\"\n",
    "    to_be_sorted = glob.glob(os.path.join(folder, '*.jpg'))\n",
    "    pic_list = []\n",
    "    heights = []\n",
    "    widths = []\n",
    "    dimension_groups = []\n",
    "    for picy in to_be_sorted:\n",
    "        example = cv2.imread(picy, cv2.IMREAD_GRAYSCALE)\n",
    "        height = example.shape[0]\n",
    "        width = example.shape[1]\n",
    "        height_width= 'h'+str(height) + '_w' + str(width)\n",
    "        heights.append(height)    \n",
    "        widths.append(width)\n",
    "        pic_list.append(picy)\n",
    "        dimension_groups.append(height_width) \n",
    "        d = {'pics' : pic_list, 'height': heights, 'width': widths, 'height_width':dimension_groups}\n",
    "        data = pd.DataFrame(d)\n",
    "        data = data.sort_values('height_width')\n",
    "        compuniquesizes = data.height_width.unique()\n",
    "        len_list = []\n",
    "    size_name_list = []\n",
    "    sizesdict = {elem : pd.DataFrame() for elem in compuniquesizes}\n",
    "    for key in sizesdict.keys():\n",
    "        sizesdict[key] = data[:][data.height_width == key]\n",
    "    big_sizer = []\n",
    "    for nami in compuniquesizes:\n",
    "        frames = sizesdict[nami]\n",
    "        big_sizer.append(frames)\n",
    "    return big_sizer    "
   ]
  },
  {
   "cell_type": "code",
   "execution_count": null,
   "id": "ae441df2",
   "metadata": {},
   "outputs": [],
   "source": [
    "print(type(give_me_size_counted_dfs('D:/my_academia/new_dicom_output')))"
   ]
  },
  {
   "cell_type": "code",
   "execution_count": 14,
   "id": "987b5b6a",
   "metadata": {},
   "outputs": [],
   "source": [
    "def create_imgs_matrix(directory):\n",
    "    compression=50\n",
    "    global image_files   \n",
    "    image_files = []\n",
    "    # create list of all files in directory     \n",
    "    folder_files = [filename for filename in os.listdir(directory)]  \n",
    "    \n",
    "    # create images matrix   \n",
    "    counter = 0\n",
    "    for filename in folder_files: \n",
    "        # check if the file is accesible and if the file format is an image\n",
    "        if not os.path.isdir(directory + filename) and imghdr.what(directory + filename):\n",
    "            # decode the image and create the matrix\n",
    "            img = cv2.imdecode(np.fromfile(directory + filename, dtype=np.uint8), cv2.IMREAD_UNCHANGED)\n",
    "            if type(img) == np.ndarray:\n",
    "                img = img[...,0:3]\n",
    "                # resize the image based on the given compression value\n",
    "                img = cv2.resize(img, dsize=(compression, compression), interpolation=cv2.INTER_CUBIC)\n",
    "                if counter == 0:\n",
    "                    imgs_matrix = img\n",
    "                    image_files.append(filename)\n",
    "                    counter += 1\n",
    "                else:\n",
    "                    imgs_matrix = np.concatenate((imgs_matrix, img))\n",
    "                    image_files.append(filename)\n",
    "    return imgs_matrix"
   ]
  },
  {
   "cell_type": "code",
   "execution_count": 15,
   "id": "6116612f",
   "metadata": {},
   "outputs": [],
   "source": [
    "def mse(imageA, imageB):\n",
    "    err = np.sum((imageA.astype(\"float\") - imageB.astype(\"float\")) ** 2)\n",
    "    err /= float(imageA.shape[0] * imageA.shape[1])\n",
    "    return err"
   ]
  },
  {
   "cell_type": "code",
   "execution_count": 16,
   "id": "e71058c0",
   "metadata": {},
   "outputs": [
    {
     "ename": "IndentationError",
     "evalue": "unexpected indent (Temp/ipykernel_27348/2737120513.py, line 47)",
     "output_type": "error",
     "traceback": [
      "\u001b[1;36m  File \u001b[1;32m\"C:\\Users\\makeda\\AppData\\Local\\Temp/ipykernel_27348/2737120513.py\"\u001b[1;36m, line \u001b[1;32m47\u001b[0m\n\u001b[1;33m    err = mse(imgA, imgB)\u001b[0m\n\u001b[1;37m    ^\u001b[0m\n\u001b[1;31mIndentationError\u001b[0m\u001b[1;31m:\u001b[0m unexpected indent\n"
     ]
    }
   ],
   "source": [
    "def compare_images(directory, show_imgs=True, similarity=\"high\"):\n",
    "    \"\"\"\n",
    "    directory (str).........folder to search for duplicate/similar images\n",
    "    show_imgs (bool)........True = shows the duplicate/similar images found in output\n",
    "                            False = doesn't show found images\n",
    "    similarity (str)........\"high\" = searches for duplicate images, more precise\n",
    "                            \"low\" = finds similar images\n",
    "    compression (int).......recommended not to change default value\n",
    "                            compression in px (height x width) of the images before being compared\n",
    "                            the higher the compression i.e. the higher the pixel size, the more computational ressources and time required                 \n",
    "    \"\"\"\n",
    "    compression = 50\n",
    "    # list where the found duplicate/similar images are stored\n",
    "    \n",
    "    duplicates = []\n",
    "    lower_res = []\n",
    "    \n",
    "    imgs_matrix = create_imgs_matrix(directory, compression)\n",
    "\n",
    "    # search for similar images\n",
    "    if similarity == \"low\":\n",
    "        ref = 1000\n",
    "    # search for 1:1 duplicate images\n",
    "    else:\n",
    "        ref = 200\n",
    "\n",
    "    main_img = 0\n",
    "    compared_img = 1\n",
    "    nrows, ncols = compression, compression\n",
    "    srow_A = 0\n",
    "    erow_A = nrows\n",
    "    srow_B = erow_A\n",
    "    erow_B = srow_B + nrows       \n",
    "    \n",
    "    while erow_B <= imgs_matrix.shape[0]:\n",
    "        while compared_img < (len(image_files)):\n",
    "            # select two images from imgs_matrix\n",
    "            imgA = imgs_matrix[srow_A : erow_A, # rows\n",
    "                               0      : ncols]  # columns\n",
    "            imgB = imgs_matrix[srow_B : erow_B, # rows\n",
    "                               0      : ncols]  # columns\n",
    "            # compare the images\n",
    "#             rotations = 0\n",
    "#             while image_files[main_img] not in duplicates and rotations <= 3:\n",
    "#                 if rotations != 0:\n",
    "#                     imgB = rotate_img(imgB)\n",
    "            err = mse(imgA, imgB)\n",
    "            if err < ref:\n",
    "                if show_imgs == True:\n",
    "                    show_img_figs(imgA, imgB, err)\n",
    "                    show_file_info(compared_img, main_img)\n",
    "                add_to_list(image_files[main_img], duplicates)\n",
    "                check_img_quality(directory, image_files[main_img], image_files[compared_img], lower_res)\n",
    "                #rotations += 1\n",
    "            srow_B += nrows\n",
    "            erow_B += nrows\n",
    "            compared_img += 1\n",
    "        \n",
    "        srow_A += nrows\n",
    "        erow_A += nrows\n",
    "        srow_B = erow_A\n",
    "        erow_B = srow_B + nrows\n",
    "        main_img += 1\n",
    "        compared_img = main_img + 1\n",
    "\n",
    "    msg = \"\\n***\\n DONE: found \" + str(len(duplicates))  + \" duplicate image pairs in \" + str(len(image_files)) + \" total images.\\n The following files have lower resolution:\"\n",
    "    print(msg)\n",
    "    return set(lower_res)"
   ]
  },
  {
   "cell_type": "code",
   "execution_count": null,
   "id": "40241831",
   "metadata": {},
   "outputs": [],
   "source": []
  }
 ],
 "metadata": {
  "kernelspec": {
   "display_name": "Python 3 (ipykernel)",
   "language": "python",
   "name": "python3"
  },
  "language_info": {
   "codemirror_mode": {
    "name": "ipython",
    "version": 3
   },
   "file_extension": ".py",
   "mimetype": "text/x-python",
   "name": "python",
   "nbconvert_exporter": "python",
   "pygments_lexer": "ipython3",
   "version": "3.8.0"
  },
  "toc": {
   "base_numbering": 1,
   "nav_menu": {},
   "number_sections": true,
   "sideBar": true,
   "skip_h1_title": false,
   "title_cell": "Table of Contents",
   "title_sidebar": "Contents",
   "toc_cell": false,
   "toc_position": {},
   "toc_section_display": true,
   "toc_window_display": false
  }
 },
 "nbformat": 4,
 "nbformat_minor": 5
}
